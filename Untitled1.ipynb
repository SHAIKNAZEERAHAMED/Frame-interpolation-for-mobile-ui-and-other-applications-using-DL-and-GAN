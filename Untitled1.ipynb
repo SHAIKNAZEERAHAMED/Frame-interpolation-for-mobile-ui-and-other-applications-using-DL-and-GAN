{
  "nbformat": 4,
  "nbformat_minor": 0,
  "metadata": {
    "colab": {
      "provenance": [],
      "authorship_tag": "ABX9TyPXeokkj5C7jZiJKAyEhrZj",
      "include_colab_link": true
    },
    "kernelspec": {
      "name": "python3",
      "display_name": "Python 3"
    },
    "language_info": {
      "name": "python"
    }
  },
  "cells": [
    {
      "cell_type": "markdown",
      "metadata": {
        "id": "view-in-github",
        "colab_type": "text"
      },
      "source": [
        "<a href=\"https://colab.research.google.com/github/SHAIKNAZEERAHAMED/Frame-interpolation-for-mobile-ui-and-other-applications-using-DL-and-GAN/blob/main/Untitled1.ipynb\" target=\"_parent\"><img src=\"https://colab.research.google.com/assets/colab-badge.svg\" alt=\"Open In Colab\"/></a>"
      ]
    },
    {
      "cell_type": "code",
      "source": [
        "PROGRAM:\n",
        "import pandas as pd\n",
        "import numpy as np\n",
        "from sklearn.model_selection import train_test_split\n",
        "from sklearn.preprocessing import StandardScaler\n",
        "from sklearn.neighbors import KNeighborsClassifier\n",
        "from sklearn.metrics import accuracy_score\n",
        "data = {\n",
        "\"Study Hours\": [1, 2.5, 6, 2, 6, 4, 8, 9, 6, 8],\n",
        "\"Attendance (%)\": [18, 60, 90, 70, 85, 75, 85, 90, 85, 87],\n",
        "\"Previous Score\": [5, 18, 65, 40, 78, 85, 90, 85, 90, 80],\n",
        "\"Final Exam Pass (1=Pass, 0=Fail)\": [0, 0, 1, 0, 1, 1, 1, 1, 1, 1]\n",
        "}\n",
        "df = pd.DataFrame(data)\n",
        "X = df[[\"Study Hours\", \"Attendance (%)\", \"Previous Score\"]]\n",
        "y = df[\"Final Exam Pass (1=Pass, 0=Fail)\"]\n",
        "X_train, X_test, y_train, y_test = train_test_split(X, y, test_size=0.2)\n",
        "scaler = StandardScaler()\n",
        "X_train = scaler.fit_transform(X_train)\n",
        "X_test = scaler.transform(X_test)\n",
        "k = 3\n",
        "knn = KNeighborsClassifier(n_neighbors=k)\n",
        "knn.fit(X_train, y_train)\n",
        "y_pred = knn.predict(X_test)\n",
        "accuracy = accuracy_score(y_test, y_pred)\n",
        "print(f\"KNN Model Accuracy: {accuracy: .6f}\")\n",
        "new_student = np.array([[10, 70, 60]])\n",
        "new_student_scaled = scaler.transform(new_student)\n",
        "prediction = knn.predict(new_student_scaled)\n",
        "result = \"Pass\" if prediction[0] == 1 else \"Fail\"\n",
        "jhint(f\"Prediction for new student: {result}\")\n"
      ],
      "metadata": {
        "id": "tAIRyPHvXwHt"
      },
      "execution_count": null,
      "outputs": []
    }
  ]
}